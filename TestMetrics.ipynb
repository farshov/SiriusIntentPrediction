{
 "cells": [
  {
   "cell_type": "code",
   "execution_count": 442,
   "metadata": {},
   "outputs": [],
   "source": [
    "import warnings\n",
    "warnings.filterwarnings(\"ignore\")"
   ]
  },
  {
   "cell_type": "code",
   "execution_count": 561,
   "metadata": {},
   "outputs": [],
   "source": [
    "from data_load.loading import load_from_json\n",
    "\n",
    "X, y = load_from_json('data/msdialogue/MSDialog-Intent.json')"
   ]
  },
  {
   "cell_type": "code",
   "execution_count": 562,
   "metadata": {},
   "outputs": [],
   "source": [
    "df = pd.read_csv(\"data/msdialogue/out.csv\")"
   ]
  },
  {
   "cell_type": "code",
   "execution_count": 563,
   "metadata": {},
   "outputs": [],
   "source": [
    "from sklearn.model_selection import train_test_split\n",
    "\n",
    "X_train, X_test, y_train, y_test = train_test_split(df, y, test_size=0.125)"
   ]
  },
  {
   "cell_type": "code",
   "execution_count": 564,
   "metadata": {},
   "outputs": [],
   "source": [
    "num_tags = 12\n",
    "\n",
    "labels = ['GG', 'PA', 'FD', 'OQ', 'PF', 'IR', 'RQ', 'CQ', 'FQ', 'NF', 'JK', 'O']\n",
    "label_dict = dict(list(zip(labels, range(0, len(labels)))))\n",
    "\n",
    "y_train = preprocess_labels(y_train, label_dict)\n",
    "y_test = preprocess_labels(y_test, label_dict)"
   ]
  },
  {
   "cell_type": "code",
   "execution_count": 567,
   "metadata": {},
   "outputs": [],
   "source": [
    "from models.ml_models import MLModels\n",
    "\n",
    "ml = MLModels()\n",
    "ml.test_basic_model_multilabel(X_train, y_train, X_test, y_test)"
   ]
  },
  {
   "cell_type": "code",
   "execution_count": 568,
   "metadata": {},
   "outputs": [
    {
     "data": {
      "text/plain": [
       "[0.4775871242351689,\n",
       " 0.23874075955081497,\n",
       " 0.4785847299813781,\n",
       " 0.550877893056664,\n",
       " 0.6198457036445866]"
      ]
     },
     "execution_count": 568,
     "metadata": {},
     "output_type": "execute_result"
    }
   ],
   "source": [
    "acc"
   ]
  },
  {
   "cell_type": "code",
   "execution_count": 569,
   "metadata": {},
   "outputs": [
    {
     "data": {
      "text/plain": [
       "[(0.6503690036900369, 0.4487587523870146, 0.5310734463276836),\n",
       " (0.21787883507241862, 0.890515595162317, 0.35010010010010006),\n",
       " (0.8125755743651754, 0.4277530235518778, 0.5604670558799),\n",
       " (0.7729885057471264, 0.5136855506047103, 0.617208413001912),\n",
       " (0.7031007751937984, 0.5773392743475493, 0.6340440405452639)]"
      ]
     },
     "execution_count": 569,
     "metadata": {},
     "output_type": "execute_result"
    }
   ],
   "source": [
    "f1"
   ]
  },
  {
   "cell_type": "code",
   "execution_count": null,
   "metadata": {},
   "outputs": [],
   "source": []
  }
 ],
 "metadata": {
  "kernelspec": {
   "display_name": "Python 3",
   "language": "python",
   "name": "python3"
  },
  "language_info": {
   "codemirror_mode": {
    "name": "ipython",
    "version": 3
   },
   "file_extension": ".py",
   "mimetype": "text/x-python",
   "name": "python",
   "nbconvert_exporter": "python",
   "pygments_lexer": "ipython3",
   "version": "3.6.5"
  }
 },
 "nbformat": 4,
 "nbformat_minor": 2
}
